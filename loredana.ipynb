{
 "cells": [
  {
   "cell_type": "code",
   "execution_count": 1,
   "id": "d704da04",
   "metadata": {},
   "outputs": [],
   "source": [
    "import os\n",
    "from datasets import load_dataset, DatasetDict"
   ]
  },
  {
   "cell_type": "code",
   "execution_count": 3,
   "id": "9d42fe87",
   "metadata": {},
   "outputs": [
    {
     "data": {
      "application/vnd.jupyter.widget-view+json": {
       "model_id": "89da6abe96ce4365bad6af97830def7d",
       "version_major": 2,
       "version_minor": 0
      },
      "text/plain": [
       "Resolving data files:   0%|          | 0/33 [00:00<?, ?it/s]"
      ]
     },
     "metadata": {},
     "output_type": "display_data"
    },
    {
     "data": {
      "application/vnd.jupyter.widget-view+json": {
       "model_id": "6d79f1d9a385485f831151d3832a5784",
       "version_major": 2,
       "version_minor": 0
      },
      "text/plain": [
       "Saving the dataset (0/1 shards):   0%|          | 0/33 [00:00<?, ? examples/s]"
      ]
     },
     "metadata": {},
     "output_type": "display_data"
    }
   ],
   "source": [
    "# Paths\n",
    "image_dir = '/root/FineTunnedStableDiffusion/img/processed_images/resized'\n",
    "caption_dir = '/root/FineTunnedStableDiffusion/img/captions'\n",
    "\n",
    "def prepare_dataset(image_dir, caption_dir):\n",
    "    # Load images and captions\n",
    "    images = [os.path.join(image_dir, f) for f in sorted(os.listdir(image_dir)) if f.endswith(('.png', '.jpg'))]\n",
    "    captions = []\n",
    "    \n",
    "    # Read captions\n",
    "    for caption_file in sorted(os.listdir(caption_dir)):\n",
    "        with open(os.path.join(caption_dir, caption_file), 'r') as f:\n",
    "            captions.append(f.read().strip())\n",
    "    \n",
    "    # Create dataset\n",
    "    dataset = load_dataset('imagefolder', data_dir=image_dir, split='train')\n",
    "    dataset = dataset.add_column('text', captions)\n",
    "    \n",
    "    return dataset\n",
    "\n",
    "# Prepare and save dataset\n",
    "dataset = prepare_dataset(image_dir, caption_dir)\n",
    "dataset.save_to_disk('/root/FineTunnedStableDiffusion/img/loredana_dataset')"
   ]
  },
  {
   "cell_type": "code",
   "execution_count": null,
   "id": "f355660d",
   "metadata": {},
   "outputs": [],
   "source": []
  }
 ],
 "metadata": {
  "kernelspec": {
   "display_name": "venv",
   "language": "python",
   "name": "python3"
  },
  "language_info": {
   "codemirror_mode": {
    "name": "ipython",
    "version": 3
   },
   "file_extension": ".py",
   "mimetype": "text/x-python",
   "name": "python",
   "nbconvert_exporter": "python",
   "pygments_lexer": "ipython3",
   "version": "3.10.12"
  }
 },
 "nbformat": 4,
 "nbformat_minor": 5
}
