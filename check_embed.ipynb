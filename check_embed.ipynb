{
 "cells": [
  {
   "cell_type": "code",
   "execution_count": 1,
   "id": "7b877b6b",
   "metadata": {},
   "outputs": [
    {
     "name": "stdout",
     "output_type": "stream",
     "text": [
      "text_embeds shape: torch.Size([1, 77, 768])\n",
      "time_ids shape: torch.Size([1, 77, 6])\n"
     ]
    }
   ],
   "source": [
    "import torch\n",
    "\n",
    "text_embeds = torch.load(\"debug_text_embeds.pt\")\n",
    "time_ids = torch.load(\"debug_time_ids.pt\")\n",
    "\n",
    "print(\"text_embeds shape:\", text_embeds.shape)\n",
    "print(\"time_ids shape:\", time_ids.shape)\n"
   ]
  },
  {
   "cell_type": "code",
   "execution_count": null,
   "id": "982a47bc",
   "metadata": {},
   "outputs": [],
   "source": []
  }
 ],
 "metadata": {
  "kernelspec": {
   "display_name": "venv",
   "language": "python",
   "name": "python3"
  },
  "language_info": {
   "codemirror_mode": {
    "name": "ipython",
    "version": 3
   },
   "file_extension": ".py",
   "mimetype": "text/x-python",
   "name": "python",
   "nbconvert_exporter": "python",
   "pygments_lexer": "ipython3",
   "version": "3.10.12"
  }
 },
 "nbformat": 4,
 "nbformat_minor": 5
}
